{
 "cells": [
  {
   "cell_type": "code",
   "execution_count": null,
   "metadata": {},
   "outputs": [],
   "source": [
    "\"\"\"\n",
    "定积分定义：是函数f(x)在区间[a,b]上积分和的极限。\n",
    "1. 定积分必须在闭区间内连续 2.且被积函数f(x)在积分区间[a, b]上有界\n",
    "反常积分解决了定积分的两个局限为解决1， 扩展为无穷积分；为解决二，及在某一点的值为无穷，但是面积可得，扩展为瑕积分（又称无界函数的反常积分）\n",
    "\"\"\""
   ]
  },
  {
   "cell_type": "code",
   "execution_count": 7,
   "metadata": {},
   "outputs": [],
   "source": [
    "from sympy import *\n",
    "import numpy as np\n",
    "import matplotlib.pyplot as plt\n",
    "init_printing()"
   ]
  },
  {
   "cell_type": "code",
   "execution_count": null,
   "metadata": {},
   "outputs": [],
   "source": [
    "\"\"\"\n",
    "sympy.subs(variable, substitute)\n",
    "将数学表达式中的变量或表达式的所有实例替换为其他变量或表达式或值。\n",
    "\n",
    "方法一：将变量x替换为变量y \n",
    "subs(x,y)\n",
    "\n",
    "方法二：将变量y替换为具体数字，则直接计算表达式的具体数值\n",
    "subs(x, 1)\n",
    "\n",
    "方法三： 将(旧的，新的)对的列表传递给子对象，则可以进行多次替换\n",
    "exp.subs([(x, 2), (y, 4), (z, 1)])  \n",
    "\"\"\""
   ]
  },
  {
   "cell_type": "code",
   "execution_count": 10,
   "metadata": {},
   "outputs": [
    {
     "name": "stderr",
     "output_type": "stream",
     "text": [
      "C:\\Users\\jibu1001\\AppData\\Local\\Continuum\\anaconda3\\lib\\site-packages\\numpy\\core\\function_base.py:151: RuntimeWarning: invalid value encountered in multiply\n",
      "  y *= step\n"
     ]
    },
    {
     "data": {
      "text/plain": [
       "array([nan, inf, inf, inf, inf, inf, inf, inf, inf, inf, inf, inf, inf,\n",
       "       inf, inf, inf, inf, inf, inf, inf, inf, inf, inf, inf, inf, inf,\n",
       "       inf, inf, inf, inf, inf, inf, inf, inf, inf, inf, inf, inf, inf,\n",
       "       inf, inf, inf, inf, inf, inf, inf, inf, inf, inf, inf])"
      ]
     },
     "execution_count": 10,
     "metadata": {},
     "output_type": "execute_result"
    }
   ],
   "source": [
    "x = np.linspace(0,float(\"inf\"))\n",
    "x"
   ]
  },
  {
   "cell_type": "code",
   "execution_count": 2,
   "metadata": {},
   "outputs": [
    {
     "data": {
      "image/png": "[encoded data removed]",
      "text/latex": [
       "$\\displaystyle \\left( \\frac{1}{\\left(e^{x} + 1\\right)^{2}}, \\  - \\frac{1}{2} + \\log{\\left(2 \\right)}\\right)$"
      ],
      "text/plain": [
       "⎛    1                   ⎞\n",
       "⎜─────────, -1/2 + log(2)⎟\n",
       "⎜        2               ⎟\n",
       "⎜⎛ x    ⎞                ⎟\n",
       "⎝⎝ℯ  + 1⎠                ⎠"
      ]
     },
     "execution_count": 2,
     "metadata": {},
     "output_type": "execute_result"
    }
   ],
   "source": [
    "x = symbols('x')\n",
    "f = 1 / (1 + exp(x)) **2\n",
    "f, integrate(f, (x, 0, +oo))"
   ]
  }
 ],
 "metadata": {
  "interpreter": {
   "hash": "ade8490c86fd422596a40dbcae96ec0d7ac7de1fcc7168425af3ba4a39fd5ae5"
  },
  "kernelspec": {
   "display_name": "Python 3.7.3 64-bit ('base': conda)",
   "language": "python",
   "name": "python3"
  },
  "language_info": {
   "codemirror_mode": {
    "name": "ipython",
    "version": 3
   },
   "file_extension": ".py",
   "mimetype": "text/x-python",
   "name": "python",
   "nbconvert_exporter": "python",
   "pygments_lexer": "ipython3",
   "version": "3.7.3"
  },
  "orig_nbformat": 4
 },
 "nbformat": 4,
 "nbformat_minor": 2
}
