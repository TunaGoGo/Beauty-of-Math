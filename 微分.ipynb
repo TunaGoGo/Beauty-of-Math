{
 "cells": [
  {
   "cell_type": "code",
   "execution_count": 8,
   "metadata": {},
   "outputs": [],
   "source": [
    "from sympy import *"
   ]
  },
  {
   "cell_type": "code",
   "execution_count": 11,
   "metadata": {},
   "outputs": [],
   "source": [
    "init_printing()"
   ]
  },
  {
   "cell_type": "code",
   "execution_count": 10,
   "metadata": {},
   "outputs": [],
   "source": [
    "x = symbols('x')"
   ]
  },
  {
   "cell_type": "code",
   "execution_count": 16,
   "metadata": {},
   "outputs": [
    {
     "data": {
      "image/png": "[encoded data removed]",
      "text/latex": [
       "$\\displaystyle \\left( \\int e^{- \\left|{x}\\right|}\\, dx, \\  - e^{- x}, \\  e^{x}\\right)$"
      ],
      "text/plain": [
       "⎛⌠                   ⎞\n",
       "⎜⎮  -│x│       -x   x⎟\n",
       "⎜⎮ ℯ     dx, -ℯ  , ℯ ⎟\n",
       "⎝⌡                   ⎠"
      ]
     },
     "execution_count": 16,
     "metadata": {},
     "output_type": "execute_result"
    }
   ],
   "source": [
    "# 分段函数不能直接用python求解， 所以先分段，在单独计算\n",
    "f = exp(-abs(x))\n",
    "integrate(f,x), integrate(exp(-x), x), integrate(exp(x), x) "
   ]
  },
  {
   "cell_type": "code",
   "execution_count": 15,
   "metadata": {},
   "outputs": [
    {
     "data": {
      "image/png": "[encoded data removed]",
      "text/latex": [
       "$\\displaystyle \\left( \\frac{\\log{\\left(x \\right)}}{x^{2}}, \\  - \\frac{\\log{\\left(x \\right)}}{x} - \\frac{1}{x}\\right)$"
      ],
      "text/plain": [
       "⎛log(x)    log(x)   1⎞\n",
       "⎜──────, - ────── - ─⎟\n",
       "⎜   2        x      x⎟\n",
       "⎝  x                 ⎠"
      ]
     },
     "execution_count": 15,
     "metadata": {},
     "output_type": "execute_result"
    }
   ],
   "source": [
    "f = log(x) / x**2\n",
    "f, integrate(f, x)"
   ]
  },
  {
   "cell_type": "code",
   "execution_count": 21,
   "metadata": {},
   "outputs": [
    {
     "data": {
      "image/png": "[encoded data removed]",
      "text/latex": [
       "$\\displaystyle \\left( - e^{- x}, \\  - \\frac{1}{x}, \\  e^{- x}, \\  \\frac{1}{x}\\right)$"
      ],
      "text/plain": [
       "⎛  -x  -1    -x  1⎞\n",
       "⎜-ℯ  , ───, ℯ  , ─⎟\n",
       "⎝       x        x⎠"
      ]
     },
     "execution_count": 21,
     "metadata": {},
     "output_type": "execute_result"
    }
   ],
   "source": [
    "x = symbols('x')\n",
    "# sympy.diff(x) 是对x进行求导\n",
    "df = exp(-x).diff(x)\n",
    "# sympy.subs(被积函数，换元函数) 换元求积分\n",
    "g = df.subs(x, log(x))\n",
    "df, g, integrate(df, x), integrate(g/x, x)"
   ]
  },
  {
   "cell_type": "code",
   "execution_count": 22,
   "metadata": {},
   "outputs": [
    {
     "data": {
      "image/png": "[encoded data removed]",
      "text/latex": [
       "$\\displaystyle \\left( 2 x, \\  2 - 2 x^{2}, \\  - \\frac{x^{4}}{2} + x^{2}\\right)$"
      ],
      "text/plain": [
       "⎛                  4     ⎞\n",
       "⎜            2    x     2⎟\n",
       "⎜2⋅x, 2 - 2⋅x , - ── + x ⎟\n",
       "⎝                 2      ⎠"
      ]
     },
     "execution_count": 22,
     "metadata": {},
     "output_type": "execute_result"
    }
   ],
   "source": [
    "x = symbols('x')\n",
    "F = x**2\n",
    "f = F.diff(x)\n",
    "g = f.subs(x, 1-x**2)\n",
    "f, g, integrate(x * g, x)"
   ]
  },
  {
   "cell_type": "code",
   "execution_count": 31,
   "metadata": {},
   "outputs": [
    {
     "data": {
      "image/png": "[encoded data removed]",
      "text/latex": [
       "$\\displaystyle \\left( \\frac{x}{\\left(1 - x\\right)^{3}}, \\  \\frac{2 x - 1}{2 x^{2} - 4 x + 2}\\right)$"
      ],
      "text/plain": [
       "⎛   x         2⋅x - 1    ⎞\n",
       "⎜────────, ──────────────⎟\n",
       "⎜       3     2          ⎟\n",
       "⎝(1 - x)   2⋅x  - 4⋅x + 2⎠"
      ]
     },
     "execution_count": 31,
     "metadata": {},
     "output_type": "execute_result"
    }
   ],
   "source": [
    "x = symbols('x')\n",
    "f = x / ((1-x) ** 3)\n",
    "f, integrate(f,x)"
   ]
  },
  {
   "cell_type": "code",
   "execution_count": 33,
   "metadata": {},
   "outputs": [
    {
     "data": {
      "image/png": "[encoded data removed]",
      "text/latex": [
       "$\\displaystyle \\left( \\frac{u}{u^{4} + 1}, \\  \\frac{\\operatorname{atan}{\\left(u^{2} \\right)}}{2}, \\  \\frac{\\operatorname{atan}{\\left(\\sin^{2}{\\left(x \\right)} \\right)}}{2}\\right)$"
      ],
      "text/plain": [
       "⎛            ⎛ 2⎞      ⎛   2   ⎞⎞\n",
       "⎜  u     atan⎝u ⎠  atan⎝sin (x)⎠⎟\n",
       "⎜──────, ────────, ─────────────⎟\n",
       "⎜ 4         2            2      ⎟\n",
       "⎝u  + 1                         ⎠"
      ]
     },
     "execution_count": 33,
     "metadata": {},
     "output_type": "execute_result"
    }
   ],
   "source": [
    "x, u =symbols(\"x u \")\n",
    "f = u / (1+u**4)\n",
    "Gu = integrate(f,u)\n",
    "f, Gu, Gu.subs(u, sin(x))"
   ]
  },
  {
   "cell_type": "code",
   "execution_count": 34,
   "metadata": {},
   "outputs": [
    {
     "data": {
      "image/png": "[encoded data removed]",
      "text/latex": [
       "$\\displaystyle \\left( 2^{x} + x^{2}, \\  \\frac{2^{x}}{\\log{\\left(2 \\right)}} + \\frac{x^{3}}{3}\\right)$"
      ],
      "text/plain": [
       "⎛            x      3⎞\n",
       "⎜ x    2    2      x ⎟\n",
       "⎜2  + x , ────── + ──⎟\n",
       "⎝         log(2)   3 ⎠"
      ]
     },
     "execution_count": 34,
     "metadata": {},
     "output_type": "execute_result"
    }
   ],
   "source": [
    "x = symbols('x')\n",
    "f = 2 ** x + x ** 2\n",
    "f, integrate(f, x)"
   ]
  }
 ],
 "metadata": {
  "interpreter": {
   "hash": "ade8490c86fd422596a40dbcae96ec0d7ac7de1fcc7168425af3ba4a39fd5ae5"
  },
  "kernelspec": {
   "display_name": "Python 3.7.3 64-bit ('base': conda)",
   "language": "python",
   "name": "python3"
  },
  "language_info": {
   "codemirror_mode": {
    "name": "ipython",
    "version": 3
   },
   "file_extension": ".py",
   "mimetype": "text/x-python",
   "name": "python",
   "nbconvert_exporter": "python",
   "pygments_lexer": "ipython3",
   "version": "3.7.3"
  },
  "orig_nbformat": 4
 },
 "nbformat": 4,
 "nbformat_minor": 2
}
